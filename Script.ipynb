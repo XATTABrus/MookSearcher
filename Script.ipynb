{
 "cells": [
  {
   "cell_type": "markdown",
   "metadata": {},
   "source": [
    "### Imports library"
   ]
  },
  {
   "cell_type": "code",
   "execution_count": 67,
   "metadata": {},
   "outputs": [],
   "source": [
    "from sklearn.metrics.pairwise import cosine_similarity\n",
    "from gensim import corpora, models\n",
    "import collections\n",
    "import numpy as np\n",
    "import smart_open\n",
    "import pymorphy2\n",
    "import random\n",
    "import gensim\n",
    "import json\n",
    "import os"
   ]
  },
  {
   "cell_type": "markdown",
   "metadata": {},
   "source": [
    "### Corpus preparation"
   ]
  },
  {
   "cell_type": "code",
   "execution_count": 3,
   "metadata": {
    "collapsed": true
   },
   "outputs": [],
   "source": [
    "def get_percentile_counts(tokenized_lengths):\n",
    "    minCount=np.min(tokenized_lengths)\n",
    "    maxCount=np.max(tokenized_lengths)\n",
    "    print(minCount)\n",
    "    print(maxCount)\n",
    "    for i in range(0,11):\n",
    "        lower_border = i*(maxCount-minCount)/10+minCount\n",
    "        upper_border = (i+1)*(maxCount-minCount)/10+minCount\n",
    "        print(lower_border)\n",
    "        print(\"Count: \",np.count_nonzero(tokenized_lengths*((tokenized_lengths>=lower_border)&(tokenized_lengths<=upper_border))))\n",
    "\n",
    "def get_russian_lemma(token, lemmatizer):\n",
    "    lemma = lemmatizer.parse(token.lower())[0]\n",
    "    return lemma.normal_form\n",
    "\n",
    "def get_lemmatized_sequence(sequence, lemmatizer):\n",
    "    lemmas = []\n",
    "    for token in sequence:\n",
    "        lemma = get_russian_lemma(token, lemmatizer)\n",
    "        if lemma.strip() != \"\":\n",
    "            lemmas.append(lemma)\n",
    "    return ' '.join(lemmas)\n",
    "\n",
    "def get_lemmatized_document(fullfilename, lemmatizer):\n",
    "    with open(fullfilename, 'r') as file:\n",
    "        return get_lemmatized_sequence(gensim.utils.simple_preprocess(file.read().replace('\\n', ' ')), lemmatizer)  \n",
    "\n",
    "def build_lemmatized_corpora(path, targetfilename, lemmatizer):\n",
    "    with open(targetfilename+'.cor', 'w') as corporafile, open(targetfilename+'.cfn', 'w') as filenamefile:\n",
    "        for filename in os.listdir(path):\n",
    "            line = get_lemmatized_document(path+os.sep+filename, lemmatizer)\n",
    "            print(line, file=corporafile)\n",
    "            print(filename,file=filenamefile)\n",
    "            files_processed+=1\n",
    "    print(\"Total files processed: \", files_processed)\n",
    "\n",
    "def read_corpus(fname, tokens_only=False, preserve=False):\n",
    "    with smart_open.smart_open(fname, encoding=\"iso-8859-1\") as f:\n",
    "        for i, line in enumerate(f):\n",
    "            if preserve:\n",
    "                yield line.decode()[:-1]\n",
    "            elif tokens_only:\n",
    "                yield gensim.utils.simple_preprocess(line)\n",
    "            else:\n",
    "                # For training data, add tags\n",
    "                yield gensim.models.doc2vec.TaggedDocument(gensim.utils.simple_preprocess(line), [i])\n",
    "\n",
    "\n",
    "def split_corpus(full_corpus_filenames, full_corpus, split_fraction):\n",
    "    random_filenames = np.random.rand(len(full_corpus_filenames)) < 1-split_fraction\n",
    "    train_corpus=[]\n",
    "    train_corpus_filenames=[]\n",
    "    test_corpus=[]\n",
    "    test_corpus_filenames = []\n",
    "\n",
    "    for i in range(0, len(random_filenames)): \n",
    "        if i%4==0:#full_corpus_filenames[i][-5:-4]==str(1):\n",
    "            test_corpus.append(full_corpus[i])\n",
    "            test_corpus_filenames.append(full_corpus_filenames[i])\n",
    "        else:\n",
    "            train_corpus.append(full_corpus[i])\n",
    "            train_corpus_filenames.append(full_corpus_filenames[i])\n",
    "    return train_corpus_filenames, train_corpus, test_corpus_filenames, test_corpus"
   ]
  },
  {
   "cell_type": "markdown",
   "metadata": {},
   "source": [
    "### Assembling vectors for corpus documents"
   ]
  },
  {
   "cell_type": "code",
   "execution_count": 4,
   "metadata": {
    "collapsed": true
   },
   "outputs": [],
   "source": [
    "def GetVectors(model, dictionary, dimensionality, corpus):\n",
    "    dim_sum = 0\n",
    "    vectors = []\n",
    "    for i in range(0, len(corpus)):        \n",
    "        prevector = model[dictionary.doc2bow(corpus[i])]\n",
    "        dim_sum += len(prevector)\n",
    "        vector = [0]*dimensionality\n",
    "        for k,v in prevector:\n",
    "            vector[k]=v\n",
    "        vectors.append(vector)\n",
    "    return vectors\n",
    "\n",
    "def GetAverageW2Vector(model, doc, dimensionality):\n",
    "    wordcount = 0\n",
    "    docvector = [0]*dimensionality\n",
    "    for word in doc:\n",
    "        if word in model.vocab:\n",
    "            wordcount+=1\n",
    "            docvector=[x + y for x, y in zip(docvector, model[word])]\n",
    "    docvector=[x / wordcount for x in docvector]\n",
    "    return docvector\n",
    "\n",
    "def GetAverageW2VectorsCorpus(model, corpus):\n",
    "    vectors = []\n",
    "    for doc in corpus:\n",
    "        vectors.append(GetAverageW2Vector(model, doc))\n",
    "    return vectors\n",
    "\n",
    "def GetWeightedAverageW2Vector(model, weights, dictionary, doc, dimensionality):\n",
    "    wordcount = 0\n",
    "    docvector = [0]*dimensionality\n",
    "    \n",
    "    d = dict(weights[dictionary.doc2bow(doc)])\n",
    "\n",
    "    for word in doc:\n",
    "        if 1==1:\n",
    "            weight=dictionary.doc2bow([word])\n",
    "            #if (word in model.vocab) and (len(weight)>0):\n",
    "            if (word in model.wv.vocab) and (len(weight)>0):\n",
    "                wordcount+=1\n",
    "                w=weight[0][0]\n",
    "                if not (w in d):\n",
    "                    w=0\n",
    "                else:\n",
    "                    w=d[w]\n",
    "                docvector=[(x + (y*w)) for x, y in zip(docvector, model[word])]\n",
    "    if wordcount == 0:\n",
    "        docvector=[x / wordcount for x in docvector]\n",
    "    return docvector\n",
    "\n",
    "def GetWeightedAverageW2VectorsCorpus(model, weights, dictionary, corpus, dimensionality):\n",
    "    vectors = []\n",
    "    for doc in corpus:\n",
    "        vectors.append(GetWeightedAverageW2Vector(model, weights, dictionary, doc, dimensionality))\n",
    "    return vectors\n",
    "\n",
    "def GetP2VectorsCorpus(model, corpus):\n",
    "    vectors = []\n",
    "    for doc in corpus:\n",
    "        vectors.append(model.infer_vector(doc))\n",
    "    return vectors"
   ]
  },
  {
   "cell_type": "markdown",
   "metadata": {},
   "source": [
    "### Obtaining simple search query results"
   ]
  },
  {
   "cell_type": "code",
   "execution_count": 6,
   "metadata": {
    "collapsed": true
   },
   "outputs": [],
   "source": [
    "def most_similar_docs(docs, model, doc, topn=10):\n",
    "    similar_docs = []\n",
    "    \n",
    "    inferred_vector = model.infer_vector(doc)\n",
    "    vecs=model.docvecs.most_similar([inferred_vector], topn=topn)\n",
    "    \n",
    "    for i,sim in vecs:\n",
    "        similar_docs.append(tuple((docs[i], sim)))\n",
    "    return similar_docs\n",
    "\n",
    "def most_similar_docs_w2v(docs, model, tfidfmodel, dictionary, vectors, doc, topn=10):\n",
    "    similar_docs = []\n",
    "\n",
    "    inferred_vector = GetWeightedAverageW2VectorsCorpus(model, tfidfmodel, dictionary, [doc], 200)\n",
    "    \n",
    "    sims=[]\n",
    "    \n",
    "    for i in range(0,len(vectors)):\n",
    "        sims.append((corpus_names[i], cosine_similarity(np.reshape(vectors[i], (1,-1)), np.reshape(inferred_vector, (1,-1)))[0][0]))\n",
    "                    \n",
    "    similar_docs=sorted(sims, key=lambda x: x[1], reverse=True)\n",
    "\n",
    "    return similar_docs[:topn]\n",
    "\n",
    "def most_similar_docs_lda_lsi_tfidf(docs, model, dictionary, topics, doc, topn=10):\n",
    "    similar_docs = []\n",
    "\n",
    "    vectors = GetVectors(model, dictionary, topics, corpus)    \n",
    "    inferred_vector = GetVectors(model, dictionary, topics, [doc])[0]\n",
    "    \n",
    "    sims=[]\n",
    "    \n",
    "    for i in range(0,len(vectors)):\n",
    "        sims.append((corpus_names[i], cosine_similarity(np.reshape(vectors[i], (1,-1)), np.reshape(inferred_vector, (1,-1)))[0][0]))\n",
    "                    \n",
    "    similar_docs=sorted(sims, key=lambda x: x[1], reverse=True)\n",
    "    return similar_docs[:topn]"
   ]
  },
  {
   "cell_type": "markdown",
   "metadata": {},
   "source": [
    "### Training models"
   ]
  },
  {
   "cell_type": "code",
   "execution_count": 7,
   "metadata": {
    "collapsed": true
   },
   "outputs": [],
   "source": [
    "def TrainLDAModel(train_corpus):\n",
    "    # turn our tokenized documents into a id <-> term dictionary\n",
    "    dictionary = corpora.Dictionary(train_corpus)\n",
    "    \n",
    "    # convert tokenized documents into a document-term matrix\n",
    "    corpus = [dictionary.doc2bow(text) for text in train_corpus]\n",
    "\n",
    "    # generate LDA model\n",
    "    ldamodel = gensim.models.ldamodel.LdaModel(corpus, num_topics=lda_topics, id2word = dictionary, passes=20)\n",
    "    return ldamodel, dictionary\n",
    "\n",
    "def TrainLSIModel(train_corpus):\n",
    "    # turn our tokenized documents into a id <-> term dictionary\n",
    "    dictionary = corpora.Dictionary(train_corpus)\n",
    "    \n",
    "    # convert tokenized documents into a document-term matrix\n",
    "    corpus = [dictionary.doc2bow(text) for text in train_corpus]\n",
    "\n",
    "    # generate LSI model\n",
    "    lsimodel = gensim.models.lsimodel.LsiModel(corpus, num_topics=lsi_topics, id2word = dictionary)\n",
    "    return lsimodel, dictionary\n",
    "\n",
    "def TrainTFIDFModel(train_corpus):\n",
    "    # turn our tokenized documents into a id <-> term dictionary\n",
    "    dictionary = corpora.Dictionary(train_corpus)\n",
    "    \n",
    "    # convert tokenized documents into a document-term matrix\n",
    "    corpus = [dictionary.doc2bow(text) for text in train_corpus]\n",
    "\n",
    "    # generate TFIDF model\n",
    "    tfidfmodel = gensim.models.TfidfModel(corpus)\n",
    "    return tfidfmodel, dictionary\n",
    "\n",
    "def TrainW2VModel(train_corpus, dimensionality, iterations):\n",
    "    sentences = train_corpus\n",
    "    #sentences = SentenceModel(train_corpus)\n",
    "    model = gensim.models.Word2Vec(sentences, size=dimensionality, iter=iterations)\n",
    "    return model\n",
    "\n",
    "def TrainP2VModel(train_corpus, dimensionality, iterations):\n",
    "    corpus_tagged = []\n",
    "    for i in range(0,len(train_corpus)):\n",
    "        corpus_tagged.append(gensim.models.doc2vec.TaggedDocument(train_corpus[i], [i]))\n",
    "\n",
    "    model = gensim.models.doc2vec.Doc2Vec(dm=1, size=dimensionality, min_count=2, iter=iterations)\n",
    "    model.build_vocab(corpus_tagged)\n",
    "    model.train(corpus_tagged)\n",
    "    return model"
   ]
  },
  {
   "cell_type": "markdown",
   "metadata": {},
   "source": [
    "### Packing results"
   ]
  },
  {
   "cell_type": "code",
   "execution_count": 73,
   "metadata": {
    "collapsed": true
   },
   "outputs": [],
   "source": [
    "def pack_similar_documents(docs):\n",
    "    results = {}\n",
    "    for key in docs.keys():\n",
    "        results[key]=docs[key]\n",
    "    return results\n",
    "\n",
    "def pack_sims(id, query_names, query_data, topn=10):\n",
    "    results={}\n",
    "    results['Filename']=query_names[id]\n",
    "    search_results={}\n",
    "    #search_results['p2v']=most_similar_docs(corpus_names, p2vmodel, query_data, topn=topn)\n",
    "    #search_results['lsi']=most_similar_docs_lda_lsi_tfidf(corpus_names, lsimodel, lsidictionary, lsi_topics, query_data, topn=topn)\n",
    "    #search_results['lda']=most_similar_docs_lda_lsi_tfidf(corpus_names, ldamodel, ldadictionary, lda_topics, query_data, topn=topn)\n",
    "    #search_results['tfidf']=most_similar_docs_lda_lsi_tfidf(corpus_names, tfidfmodel, tfidfdictionary, len(tfidfdictionary), query_data, topn=topn)\n",
    "    search_results['w2v_xattab_inout200i55']=most_similar_docs_w2v(corpus_names, waw2vmodel, w2vtfidfmodel, w2vdictionary, w2vvectors, query_corpus[id], topn=topn)\n",
    "    #search_results[]=\n",
    "\n",
    "    results['Results']=pack_similar_documents(search_results)\n",
    "    \n",
    "    return results\n",
    "\n",
    "def pack_it_all(filename, query_names, query_data, topn=10):\n",
    "    sims=[]\n",
    "    for i in range(0,len(query_names)):\n",
    "        sims.append(pack_sims(i, query_names, query_data, topn))\n",
    "        print ('Packed {} - {}'.format(i, query_names[i]))\n",
    "\n",
    "    res=json.dumps(sims, ensure_ascii=False)\n",
    "\n",
    "    with open(filename+'.json', 'w', encoding=\"utf-8\") as f:\n",
    "        print(res, file=f)"
   ]
  },
  {
   "cell_type": "markdown",
   "metadata": {},
   "source": [
    "### Run"
   ]
  },
  {
   "cell_type": "code",
   "execution_count": 16,
   "metadata": {},
   "outputs": [],
   "source": [
    "data_dir = \"D:\\\\Разработка\\\\Python\\\\Julius\\\\data\\\\\"\n",
    "\n",
    "#mooc_preserved = 'corpus_mooc.txt'\n",
    "mooc_corpus = 'courses.cor'\n",
    "mooc_names = 'courses.cfn'\n",
    "\n",
    "#rpd_preserved = 'test_rpds.txt'\n",
    "rpd_names='docs.cfn'\n",
    "rpd_corpus='docs.cor'"
   ]
  },
  {
   "cell_type": "markdown",
   "metadata": {},
   "source": [
    "### Lemmatization"
   ]
  },
  {
   "cell_type": "code",
   "execution_count": 11,
   "metadata": {
    "collapsed": true
   },
   "outputs": [],
   "source": [
    "#morph = pymorphy2.MorphAnalyzer()\n",
    "#%time build_lemmatized_corpora(data_dir, mooc_preserved, morph)\n",
    "#%time build_lemmatized_corpora(data_dir, rpd_preserved, morph)"
   ]
  },
  {
   "cell_type": "markdown",
   "metadata": {},
   "source": [
    "### Read corpus"
   ]
  },
  {
   "cell_type": "code",
   "execution_count": 22,
   "metadata": {},
   "outputs": [
    {
     "name": "stdout",
     "output_type": "stream",
     "text": [
      "Length corpus:  1276\n",
      "Length query_corpus 29\n"
     ]
    }
   ],
   "source": [
    "corpus = list(read_corpus(data_dir + mooc_corpus, tokens_only=True))\n",
    "corpus_names = list(read_corpus(data_dir + mooc_names, preserve=True))\n",
    "\n",
    "query_corpus = list(read_corpus(data_dir + rpd_corpus, tokens_only=True))\n",
    "query_names = list(read_corpus(data_dir + rpd_names, preserve=True))\n",
    "\n",
    "print('Length corpus: ', len(corpus))\n",
    "print('Length query_corpus', len(query_corpus))"
   ]
  },
  {
   "cell_type": "markdown",
   "metadata": {},
   "source": [
    "### Train model"
   ]
  },
  {
   "cell_type": "code",
   "execution_count": 23,
   "metadata": {},
   "outputs": [
    {
     "name": "stdout",
     "output_type": "stream",
     "text": [
      "Training time TF-IDF model\n",
      "Wall time: 1.67 s\n",
      "Training time Word2Vec model\n",
      "Wall time: 1min\n"
     ]
    }
   ],
   "source": [
    "print('Training time TF-IDF model')\n",
    "%time tfidfmodel, tfidfdictionary = TrainTFIDFModel(corpus)\n",
    "\n",
    "dimensionality = 200\n",
    "iterations = 55\n",
    "print('Training time Word2Vec model')\n",
    "%time waw2vmodel = TrainW2VModel(corpus, dimensionality, iterations)\n",
    "\n",
    "#%time p2vmodel = TrainP2VModel(corpus, 50, 55)\n",
    "\n",
    "lda_topics = 25\n",
    "#%time ldamodel, ldadictionary = TrainLDAModel(corpus)\n",
    "\n",
    "lsi_topics = 25\n",
    "#%time lsimodel, lsidictionary = TrainLSIModel(corpus)"
   ]
  },
  {
   "cell_type": "code",
   "execution_count": 60,
   "metadata": {},
   "outputs": [
    {
     "name": "stdout",
     "output_type": "stream",
     "text": [
      "length vocabulary w2v: 9495\n",
      "length vocabulary tf-idf: 28811\n"
     ]
    }
   ],
   "source": [
    "# remove \\r from corpus_name\n",
    "corpus_names = [s.replace('\\r', '') for s in corpus_names]\n",
    "\n",
    "print('length vocabulary w2v:', len(waw2vmodel.wv.vocab))\n",
    "print('length vocabulary tf-idf:', len(tfidfdictionary))"
   ]
  },
  {
   "cell_type": "markdown",
   "metadata": {},
   "source": [
    "### Create out vectors of w2v model"
   ]
  },
  {
   "cell_type": "code",
   "execution_count": 61,
   "metadata": {},
   "outputs": [],
   "source": [
    "outv = gensim.models.KeyedVectors()\n",
    "outv.vocab = waw2vmodel.wv.vocab  # same\n",
    "outv.index2word = waw2vmodel.wv.index2word  # same\n",
    "outv.syn0 = waw2vmodel.syn1neg  # different"
   ]
  },
  {
   "cell_type": "markdown",
   "metadata": {},
   "source": [
    "### \"IN - OUT\" matrix example"
   ]
  },
  {
   "cell_type": "code",
   "execution_count": 65,
   "metadata": {},
   "outputs": [
    {
     "name": "stdout",
     "output_type": "stream",
     "text": [
      "Vocab: язык\n",
      "IN - IN similar\n"
     ]
    },
    {
     "data": {
      "text/plain": [
       "[('язык', 0.9999999403953552),\n",
       " ('синтаксис', 0.46316027641296387),\n",
       " ('интерпретатор', 0.41165441274642944),\n",
       " ('грамматик', 0.40573638677597046),\n",
       " ('java', 0.35552847385406494),\n",
       " ('турбо', 0.3521755337715149),\n",
       " ('лексика', 0.35112762451171875),\n",
       " ('python', 0.34946393966674805),\n",
       " ('грамматика', 0.34903720021247864),\n",
       " ('семантика', 0.34846651554107666)]"
      ]
     },
     "metadata": {},
     "output_type": "display_data"
    },
    {
     "name": "stdout",
     "output_type": "stream",
     "text": [
      "OUT - OUT similar\n"
     ]
    },
    {
     "data": {
      "text/plain": [
       "[('язык', 1.0),\n",
       " ('markup', 0.8488880395889282),\n",
       " ('нерусский', 0.8476859331130981),\n",
       " ('кухня', 0.8473172187805176),\n",
       " ('modeling', 0.8466644883155823),\n",
       " ('smalltalk', 0.844672441482544),\n",
       " ('иероглиф', 0.8445518612861633),\n",
       " ('магазинный', 0.8444603681564331),\n",
       " ('русски', 0.8426309823989868),\n",
       " ('сокращённо', 0.8425090312957764)]"
      ]
     },
     "metadata": {},
     "output_type": "display_data"
    },
    {
     "name": "stdout",
     "output_type": "stream",
     "text": [
      "IN - OUT similar\n"
     ]
    },
    {
     "data": {
      "text/plain": [
       "[('фортран', 0.2768046259880066),\n",
       " ('ocl', 0.22955092787742615),\n",
       " ('sml', 0.22124525904655457),\n",
       " ('sh', 0.21058422327041626),\n",
       " ('tsg', 0.20981968939304352),\n",
       " ('си', 0.20802563428878784),\n",
       " ('autolisp', 0.20724061131477356),\n",
       " ('eiffel', 0.20049449801445007),\n",
       " ('английский', 0.19762614369392395),\n",
       " ('lisp', 0.19218973815441132)]"
      ]
     },
     "metadata": {},
     "output_type": "display_data"
    },
    {
     "name": "stdout",
     "output_type": "stream",
     "text": [
      "OUT - IN similar\n"
     ]
    },
    {
     "data": {
      "text/plain": [
       "[('русский', 0.14256185293197632),\n",
       " ('английский', 0.12640494108200073),\n",
       " ('си', 0.1149003654718399),\n",
       " ('pascal', 0.10094202309846878),\n",
       " ('ocl', 0.09874428808689117),\n",
       " ('sml', 0.09417713433504105),\n",
       " ('tsg', 0.09195888042449951),\n",
       " ('java', 0.09002791345119476),\n",
       " ('иностранный', 0.08655869215726852),\n",
       " ('естественный', 0.08426229655742645)]"
      ]
     },
     "metadata": {},
     "output_type": "display_data"
    }
   ],
   "source": [
    "test_word = 'язык'\n",
    "print('Vocab:', test_word)\n",
    "\n",
    "print('IN - IN similar')\n",
    "display(waw2vmodel.most_similar(positive=[waw2vmodel[test_word]]))\n",
    "print('OUT - OUT similar')\n",
    "display(outv.most_similar(positive=[outv[test_word]]))\n",
    "print('IN - OUT similar')\n",
    "display(waw2vmodel.most_similar(positive=[outv[test_word]]))\n",
    "print('OUT - IN similar')\n",
    "display(outv.most_similar(positive=[waw2vmodel[test_word]]))"
   ]
  },
  {
   "cell_type": "code",
   "execution_count": 66,
   "metadata": {
    "collapsed": true
   },
   "outputs": [],
   "source": [
    "# Обучение на in матрице\n",
    "#w2vvectors = GetWeightedAverageW2VectorsCorpus(waw2vmodel, tfidfmodel, tfidfdictionary, corpus, dimensionality)\n",
    "\n",
    "# Обучение на out матрице\n",
    "w2vvectors = GetWeightedAverageW2VectorsCorpus(outv, tfidfmodel, tfidfdictionary, corpus, dimensionality)"
   ]
  },
  {
   "cell_type": "markdown",
   "metadata": {},
   "source": [
    "### Export model "
   ]
  },
  {
   "cell_type": "code",
   "execution_count": 74,
   "metadata": {},
   "outputs": [
    {
     "name": "stdout",
     "output_type": "stream",
     "text": [
      "Packed 0 - 21_РПД_Теория вероятностей и математическая статистика\n",
      "Packed 1 - 15_РПД_Защита информации\n",
      "Packed 2 - 24_ РПД _Алгоритмы и анализ сложности \n",
      "Packed 3 - 4_РПД Экономика\n",
      "Packed 4 - 30_ РПД _Объектно-ориентированный анализ и программирование\n",
      "Packed 5 - РПД БИ Маг Переговоры\n",
      "Packed 6 - РПД _Информационные системы и технологии ПИ_09.03.03(2)\n",
      "Packed 7 - 6_РПД_Линейная алгебра и аналитическая геометрия\n",
      "Packed 8 - 10_РПД _Базы данных\n",
      "Packed 9 - 9_РПД_Операционные системы\n",
      "Packed 10 - 41_1_РПД _Теория автоматов и формальных языков\n",
      "Packed 11 - 11_РПД _Программирование\n",
      "Packed 12 - 37_РПД _Программная инженерия\n",
      "Packed 13 - 15_РПД_Сети и телекоммуникации\n",
      "Packed 14 - 31_РПД _Программирование на Java\n",
      "Packed 15 - РПД Менеджмент 38.03.05 очка\n",
      "Packed 16 - РПД_ теория принятия решений_ маг БИ (вер2)\n",
      "Packed 17 - 5_РПД _Математический анализ, Дифференциальные и разностные уравнения\n",
      "Packed 18 - 35_РПД _ Локальные и глобальные вычислительные сети\n",
      "Packed 19 - 45_2_РПД_Программирование .Net Framework\n",
      "Packed 20 - 43_2_РПД_Моделирование и анализ бизнес-процессов\n",
      "Packed 21 - 44_1_РПД_Разработка Интернет-приложений\n",
      "Packed 22 - 44_1_РПД_ИВТ_Инженерия знаний и интеллектуальные системы\n",
      "Packed 23 - РПД ИТ-Маркетинг 09.03.03\n",
      "Packed 24 - РПД _Сист.инт.анализа данных_маг\n",
      "Packed 25 - 23_РПД _Дискретная математика\n",
      "Packed 26 - 46_1_РПД _Управление ИТ-сервисами и контентом\n",
      "Packed 27 - РПД _Вычислительные методы по ПИ 09.03.03\n",
      "Packed 28 - РПД Орг и планир произв 09.03.03\n",
      "Wall time: 24.5 s\n"
     ]
    }
   ],
   "source": [
    "w2vtfidfmodel = tfidfmodel\n",
    "w2vdictionary = tfidfdictionary\n",
    "\n",
    "%time pack_it_all('w2v_xattab_inout200i55_test', query_names, query_corpus, 20)"
   ]
  },
  {
   "cell_type": "code",
   "execution_count": null,
   "metadata": {
    "collapsed": true
   },
   "outputs": [],
   "source": []
  }
 ],
 "metadata": {
  "kernelspec": {
   "display_name": "Python 3",
   "language": "python",
   "name": "python3"
  },
  "language_info": {
   "codemirror_mode": {
    "name": "ipython",
    "version": 3
   },
   "file_extension": ".py",
   "mimetype": "text/x-python",
   "name": "python",
   "nbconvert_exporter": "python",
   "pygments_lexer": "ipython3",
   "version": "3.6.0"
  }
 },
 "nbformat": 4,
 "nbformat_minor": 2
}
